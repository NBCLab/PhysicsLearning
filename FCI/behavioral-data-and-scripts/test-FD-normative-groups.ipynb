{
 "cells": [
  {
   "cell_type": "code",
   "execution_count": 18,
   "metadata": {
    "collapsed": true
   },
   "outputs": [],
   "source": [
    "# Gets mean framewise displacement for response hetergeneity groupings\n",
    "# Tests for differences in means and plots distributions\n",
    "# Run this using the nbc_lab env\n",
    "\n",
    "%matplotlib inline\n",
    "\n",
    "# Libraries\n",
    "import pandas as pd\n",
    "from os.path import join, isdir, isfile, basename\n",
    "import matplotlib.pyplot as plt\n",
    "import seaborn as sns\n",
    "from pyvttbl import Anova1way\n",
    "\n",
    "sns.set_style('darkgrid')\n",
    "sns.set_palette('colorblind')"
   ]
  },
  {
   "cell_type": "code",
   "execution_count": 3,
   "metadata": {
    "collapsed": false
   },
   "outputs": [],
   "source": [
    "subjname_path = '/home/data/nbc/physics-learning/data/first-level/'\n",
    "path = join(subjname_path, '{subj}/session-{sess}/fci/fci-{run}/')\n",
    "out_dir = '/home/data/nbc/physics-learning/physics-learning-fci-jbtemp/groupComparisons/'\n",
    "group1 = [216, 218, 323, 330, 334, 335, 337, 339, 341, 347, 348, 453, 467, 572, 574, 598, 606, 607, 615, 623, 626, 627, 631, 634]\n",
    "group2 = [103, 107, 219, 327, 336, 338, 451, 463, 470, 581, 586, 587, 608, 609, 613, 619, 620]\n",
    "group3 = [215, 321, 349, 460, 468, 582, 585, 588, 595, 630]\n",
    "group4 = [102, 212, 340, 455, 464, 503, 597, 617, 622, 629]\n",
    "groups = [group1, group2, group3, group4]\n",
    "sessions = ['1']\n",
    "runs = ['0', '1', '2']\n",
    "columns = ['Subject', 'Run', 'Group', 'AverageFD']\n",
    "df_fd = pd.DataFrame(columns=columns)"
   ]
  },
  {
   "cell_type": "code",
   "execution_count": 4,
   "metadata": {
    "collapsed": false
   },
   "outputs": [
    {
     "name": "stdout",
     "output_type": "stream",
     "text": [
      "\tNO fd file: 348 session 1 run 1\n"
     ]
    }
   ],
   "source": [
    "for groupnum, group in enumerate(groups):\n",
    "    for subj in group:\n",
    "        subj = str(subj)\n",
    "        for sess in sessions:\n",
    "            for run in runs:\n",
    "#                print(\"Processing group {0}, subject {1}, session {2}, run {3}\".format(groupnum+1, subj, sess, run))\n",
    "                sess_path = path.format(subj=subj, sess=sess, run=run)\n",
    "                if isdir(sess_path):\n",
    "                    fd_file = join(sess_path, \"{0}-session-{1}-fd.txt\".format(subj, sess))\n",
    "                    if isfile(fd_file):\n",
    "                        if subj == 102 and not run == 0:\n",
    "                            pass\n",
    "                        else:\n",
    "                            df = pd.read_csv(fd_file)\n",
    "                            avg = df.mean()\n",
    "                            df_new = pd.DataFrame([[int(subj), int(run), groupnum+1, float(avg)]], columns=columns)\n",
    "                            df_fd = df_fd.append(df_new)\n",
    "#                            print df_fd\n",
    "                    else:\n",
    "                        print(\"\\tNO fd file: {0} session {1} run {2}\".format(subj, sess, run))\n",
    "                elif not isdir(sess_path):\n",
    "                    print(\"\\tDir DNE: {0}\".format(sess_path))\n",
    "                else:\n",
    "                    print(\"\\tFAILURE.\")"
   ]
  },
  {
   "cell_type": "code",
   "execution_count": 5,
   "metadata": {
    "collapsed": false
   },
   "outputs": [],
   "source": [
    "out_file = join(out_dir, \"averagefd.csv\")\n",
    "df_fd.to_csv(out_file, sep='\\t', index=False)"
   ]
  },
  {
   "cell_type": "code",
   "execution_count": 6,
   "metadata": {
    "collapsed": false
   },
   "outputs": [
    {
     "name": "stdout",
     "output_type": "stream",
     "text": [
      "Anova: Single Factor on Measure\n",
      "\n",
      "SUMMARY\n",
      "Groups   Count    Sum    Average   Variance  \n",
      "============================================\n",
      "group1      71   5.091     0.072   4.890e-04 \n",
      "group2      51   3.185     0.062   4.450e-04 \n",
      "group3      30   2.189     0.073   4.538e-04 \n",
      "group4      30   2.755     0.092       0.002 \n",
      "\n",
      "O'BRIEN TEST FOR HOMOGENEITY OF VARIANCE\n",
      "Source of Variation      SS       df       MS         F     P-value   eta^2   Obs. power \n",
      "========================================================================================\n",
      "Treatments            3.695e-05     3   1.232e-05   2.593     0.054   0.042        0.620 \n",
      "Error                 8.455e-04   178   4.750e-06                                        \n",
      "========================================================================================\n",
      "Total                 8.825e-04   181                                                    \n",
      "\n",
      "ANOVA\n",
      "Source of Variation    SS     df       MS         F      P-value    eta^2   Obs. power \n",
      "======================================================================================\n",
      "Treatments            0.016     3       0.005   8.213   3.775e-05   0.122        0.984 \n",
      "Error                 0.118   178   6.650e-04                                          \n",
      "======================================================================================\n",
      "Total                 0.135   181                                                      \n",
      "\n",
      "POSTHOC MULTIPLE COMPARISONS\n",
      "\n",
      "Tukey HSD: Table of q-statistics\n",
      "         group1    group2     group3     group4  \n",
      "================================================\n",
      "group1   0        1.963 ns   0.267 ns   4.273 *  \n",
      "group2            0          2.230 ns   6.236 ** \n",
      "group3                       0          4.006 *  \n",
      "group4                                  0        \n",
      "================================================\n",
      "  + p < .10 (q-critical[4, 178] = 3.264200422723835)\n",
      "  * p < .05 (q-critical[4, 178] = 3.667923669962873)\n",
      " ** p < .01 (q-critical[4, 178] = 4.465994382170154)\n"
     ]
    }
   ],
   "source": [
    "# separate dfs by group\n",
    "fd1 = df_fd[df_fd['Group'] == 1]\n",
    "fd2 = df_fd[df_fd['Group'] == 2]\n",
    "fd3 = df_fd[df_fd['Group'] == 3]\n",
    "fd4 = df_fd[df_fd['Group'] == 4]\n",
    "\n",
    "# create data structure for one way ANOVA\n",
    "fd_grp1 = fd1['AverageFD'].tolist()\n",
    "fd_grp2 = fd2['AverageFD'].tolist()\n",
    "fd_grp3 = fd3['AverageFD'].tolist()\n",
    "fd_grp4 = fd4['AverageFD'].tolist()\n",
    "data = [fd_grp1, fd_grp2, fd_grp3, fd_grp4]\n",
    "\n",
    "# run ANOVA to test means\n",
    "conditions_list = 'group1 group2 group3 group4'.split()\n",
    "D = Anova1way()\n",
    "D.run(data, conditions_list=conditions_list)\n",
    "print D"
   ]
  },
  {
   "cell_type": "code",
   "execution_count": 19,
   "metadata": {
    "collapsed": false
   },
   "outputs": [
    {
     "name": "stdout",
     "output_type": "stream",
     "text": [
      "  Subject Run Group  AverageFD\n",
      "0     216   0     1   0.054345\n",
      "0     216   1     1   0.053453\n",
      "0     216   2     1   0.063586\n",
      "0     218   0     1   0.083923\n",
      "0     218   1     1   0.142247\n"
     ]
    },
    {
     "data": {
      "image/png": "[encoded data removed]",
      "text/plain": [
       "<Figure size 1000x500 with 1 Axes>"
      ]
     },
     "metadata": {},
     "output_type": "display_data"
    }
   ],
   "source": [
    "fig, ax = plt.subplots(figsize=(10,5))\n",
    "ax = sns.violinplot(x=\"Group\", y=\"AverageFD\", data=df_fd, inner=\"quart\")\n",
    "ax.tick_params(axis=u'both', which=u'both',length=0)\n",
    "ax.set_title(\"Mean Framewise Dispalcement\")\n",
    "plt.savefig('meanFDgroups.png')\n",
    "print df_fd.head()\n",
    "#fig.show()"
   ]
  },
  {
   "cell_type": "code",
   "execution_count": null,
   "metadata": {
    "collapsed": true
   },
   "outputs": [],
   "source": []
  }
 ],
 "metadata": {
  "kernelspec": {
   "display_name": "Python 2",
   "language": "python",
   "name": "python2"
  },
  "language_info": {
   "codemirror_mode": {
    "name": "ipython",
    "version": 2
   },
   "file_extension": ".py",
   "mimetype": "text/x-python",
   "name": "python",
   "nbconvert_exporter": "python",
   "pygments_lexer": "ipython2",
   "version": "2.7.11"
  }
 },
 "nbformat": 4,
 "nbformat_minor": 0
}
