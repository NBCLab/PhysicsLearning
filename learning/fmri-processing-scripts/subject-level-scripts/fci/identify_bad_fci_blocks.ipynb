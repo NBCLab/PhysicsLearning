{
 "cells": [
  {
   "cell_type": "code",
   "execution_count": 1,
   "metadata": {
    "collapsed": false
   },
   "outputs": [
    {
     "name": "stderr",
     "output_type": "stream",
     "text": [
      "/home/data/nbc/data-analysis/env/lib/python2.7/site-packages/matplotlib/font_manager.py:273: UserWarning: Matplotlib is building the font cache using fc-list. This may take a moment.\n",
      "  warnings.warn('Matplotlib is building the font cache using fc-list. This may take a moment.')\n"
     ]
    },
    {
     "name": "stdout",
     "output_type": "stream",
     "text": [
      "102 session-0 fci-1 NonPhysics: 0.333333333333\n",
      "102 session-1 fci-1 Physics: 0.515151515152\n",
      "102 session-1 fci-1 NonPhysics: 0.515151515152\n",
      "102 session-1 fci-2 Physics: 0.369863013699\n",
      "571 session-1 fci-1 NonPhysics: 0.405797101449\n",
      "597 session-0 fci-2 NonPhysics: 0.361111111111\n",
      "611 session-0 fci-2 NonPhysics: 0.397058823529\n",
      "622 session-0 fci-2 Physics: 0.402777777778\n",
      "622 session-0 fci-2 NonPhysics: 0.354838709677\n"
     ]
    }
   ],
   "source": [
    "%matplotlib inline\n",
    "from __future__ import division\n",
    "from os.path import join, isfile\n",
    "import pandas as pd\n",
    "import numpy as np\n",
    "\n",
    "conditions = ['Physics', 'NonPhysics']\n",
    "tr = 2.\n",
    "n_vols = 167\n",
    "cutoff = .3333333333333333333333\n",
    "hrf = np.array([0, 0.0866, 0.3749, 0.3849, 0.2161, 0.0769, \n",
    "                0.0016, -0.0306, -0.0373, -0.0308, -0.0205, \n",
    "               -0.0116, -0.0058, -0.0026, -0.0011, -0.0004, -0.0001])\n",
    "\n",
    "sum_f = '/home/data/nbc/physics-learning/physics-learning/fci-motion-censor-summary.txt'\n",
    "sum_df = pd.read_csv(sum_f, sep='\\t')\n",
    "sum_df = pd.melt(sum_df, value_vars=['fci-0', 'fci-1', 'fci-2'],\n",
    "                 value_name='prop_bad',\n",
    "                 id_vars=['subject', 'session'], var_name='run')\n",
    "for sub_num in sum_df['subject'].unique():\n",
    "    sub = str(sub_num)\n",
    "    sub_df = sum_df.loc[sum_df['subject']==sub_num]\n",
    "    for ss in sub_df['session'].unique():\n",
    "        sess = 'session-{0}'.format(int(ss))\n",
    "        sess_df = sub_df.loc[sub_df['session']==ss]\n",
    "        for run in sess_df['run'].unique():\n",
    "            fold = join('/home/data/nbc/physics-learning/data/behavioral-data/vectors',\n",
    "                        sub, sess, 'fci/')\n",
    "            fold2 = join('/home/data/nbc/physics-learning/data/first-level',\n",
    "                         sub, sess, 'fci/', run)\n",
    "            f2 = join(fold2, '{0}-{1}-motion-outliers-censored.txt'.format(sub, sess))\n",
    "            if isfile(f2):\n",
    "                censor_data = np.loadtxt(f2)\n",
    "                if censor_data.shape == 2:\n",
    "                    censor_data = np.sum(censor_data, axis=1)\n",
    "                censor_vols = np.where(censor_data)[0]\n",
    "\n",
    "                for c in conditions:\n",
    "                    f = join(fold, '{0}-{1}.txt'.format(run, c))\n",
    "                    df = pd.read_csv(f, sep='\\t', names=['onset', 'duration', 'amplitude'])\n",
    "                    temp_dat = np.zeros(n_vols)\n",
    "\n",
    "                    # convert vectors from secs to trs\n",
    "                    df['onset'] = np.round(df['onset'] / tr).astype(int)\n",
    "                    df['duration'] = np.round(df['duration'] / tr).astype(int)\n",
    "\n",
    "                    for i in range(df.shape[0]):\n",
    "                        s = df.loc[i]['onset']\n",
    "                        e = s + df.iloc[i]['duration']\n",
    "                        temp_dat[s:e] = 1\n",
    "\n",
    "                    pred_dat = np.convolve(temp_dat, hrf)[:n_vols]\n",
    "                    cond_vols = np.where(pred_dat!=0)[0]\n",
    "                    inter = np.intersect1d(cond_vols, censor_vols)\n",
    "                    prop_bad = len(inter) / len(cond_vols)\n",
    "                    if prop_bad >= cutoff:\n",
    "                        print('{0} {1} {2} {3}: {4}'.format(sub, sess, run, c, prop_bad))\n",
    "            else:\n",
    "                pass\n",
    "#                for c in conditions:\n",
    "                    # This shouldn't be here. If the censored vols file doesn't\n",
    "                    # exist, it should skip that run, since there are no\n",
    "                    # outliers. Currently, it is comparing the prop_bad from\n",
    "                    # the *last* run to the cutoff\n",
    "#                    if prop_bad >= cutoff:\n",
    "#                        print('{0} {1} {2} {3}: 0'.format(sub, sess, run, c))"
   ]
  },
  {
   "cell_type": "code",
   "execution_count": null,
   "metadata": {
    "collapsed": true
   },
   "outputs": [],
   "source": [
    "\n",
    "\n"
   ]
  }
 ],
 "metadata": {
  "kernelspec": {
   "display_name": "Python 2",
   "language": "python",
   "name": "python2"
  },
  "language_info": {
   "codemirror_mode": {
    "name": "ipython",
    "version": 2
   },
   "file_extension": ".py",
   "mimetype": "text/x-python",
   "name": "python",
   "nbconvert_exporter": "python",
   "pygments_lexer": "ipython2",
   "version": "2.7.11"
  }
 },
 "nbformat": 4,
 "nbformat_minor": 0
}
