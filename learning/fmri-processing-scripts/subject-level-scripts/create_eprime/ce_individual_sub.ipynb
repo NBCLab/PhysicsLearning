{
 "cells": [
  {
   "cell_type": "code",
   "execution_count": 4,
   "metadata": {
    "collapsed": false
   },
   "outputs": [],
   "source": [
    "import convert_eprime as ce"
   ]
  },
  {
   "cell_type": "code",
   "execution_count": 11,
   "metadata": {
    "collapsed": false
   },
   "outputs": [
    {
     "name": "stdout",
     "output_type": "stream",
     "text": [
      "Output file successfully created- /home/data/nbc/physics-learning/data/behavioral-data/rcsv/618/session-1/REAS/REAS_1.csv\n"
     ]
    }
   ],
   "source": [
    "# create rcsv\n",
    "txt = '/home/data/nbc/physics-learning/data/behavioral-data/raw/REAS_Edat_Files_NM_Cohort6/Post/REAS_1-618-2.txt'\n",
    "edat = '/home/data/nbc/physics-learning/data/behavioral-data/raw/REAS_Edat_Files_NM_Cohort6/Post/REAS_1-618-2.edat2'\n",
    "json_file = '/home/data/nbc/physics-learning/physics-learning/ce_jsons/reas.json'\n",
    "#out = '/home/jbart047/test_reas.csv'\n",
    "out = '/home/data/nbc/physics-learning/data/behavioral-data/rcsv/618/session-1/REAS/REAS_1.csv'\n",
    "\n",
    "#ce.text_to_csv(txt,out)\n",
    "ce.text_to_rcsv(text_file=txt, edat_file=edat, param_file=json_file, out_file=out)"
   ]
  },
  {
   "cell_type": "code",
   "execution_count": null,
   "metadata": {
    "collapsed": true
   },
   "outputs": [],
   "source": []
  }
 ],
 "metadata": {
  "kernelspec": {
   "display_name": "Python 2",
   "language": "python",
   "name": "python2"
  },
  "language_info": {
   "codemirror_mode": {
    "name": "ipython",
    "version": 2
   },
   "file_extension": ".py",
   "mimetype": "text/x-python",
   "name": "python",
   "nbconvert_exporter": "python",
   "pygments_lexer": "ipython2",
   "version": "2.7.11"
  }
 },
 "nbformat": 4,
 "nbformat_minor": 0
}
