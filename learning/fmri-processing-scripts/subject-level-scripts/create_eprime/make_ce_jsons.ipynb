{
 "cells": [
  {
   "cell_type": "code",
   "execution_count": 1,
   "metadata": {
    "collapsed": true
   },
   "outputs": [],
   "source": [
    "import json\n",
    "import os\n",
    "import os.path as op"
   ]
  },
  {
   "cell_type": "code",
   "execution_count": 2,
   "metadata": {
    "collapsed": true
   },
   "outputs": [],
   "source": [
    "out_dir = 'ce_jsons/'\n",
    "if not op.isdir(out_dir):\n",
    "    os.mkdir(out_dir)"
   ]
  },
  {
   "cell_type": "code",
   "execution_count": 3,
   "metadata": {
    "collapsed": true
   },
   "outputs": [],
   "source": [
    "# reasoning\n",
    "d = {'headers': ['Subject', 'Session', 'SessionDate',\n",
    "                 'ContrastValue', 'Fixation10secWarmUp1.OnsetTime',\n",
    "                 'C1.RT', 'C1.RTTime', 'C1.ACC',\n",
    "                 'C1.CRESP', 'C1.RESP', 'QuestionNumber',\n",
    "                 ],\n",
    "     'merge_cols': {},\n",
    "     'null_cols': ['C1.RTTime'],\n",
    "     'rem_nulls': True,\n",
    "     'replace_dict': {}}\n",
    "\n",
    "with open(op.join(out_dir, 'reas.json'), 'w') as fo:\n",
    "    json.dump(d, fo, indent=4)"
   ]
  },
  {
   "cell_type": "code",
   "execution_count": 4,
   "metadata": {
    "collapsed": true
   },
   "outputs": [],
   "source": [
    "# retrieval\n",
    "d = {'headers': ['Subject', 'Session', 'SessionDate',\n",
    "                 'Fixation10secWarmUp.OnsetTime',\n",
    "                 'ExpSlide.OnsetTime', 'ExpSlide2.OnsetTime',\n",
    "                 'Fixation10sec.OnsetTime', 'QuestionType',\n",
    "                 'Procedure', 'ExpSlide.RESP', 'ExpSlide2.RESP',\n",
    "                 'ExpSlide.CRESP', 'ExpSlide2.CRESP', 'CorrectAns',\n",
    "                 'ExpSlide.ACC', 'ExpSlide2.ACC', 'ExpSlide.RT',\n",
    "                 'ExpSlide2.RT', 'ExpSlide.RTTime',\n",
    "                 'ExpSlide2.RTTime',\n",
    "                 ],\n",
    "     'merge_cols': {},\n",
    "     'null_cols': ['Procedure'],\n",
    "     'rem_nulls': True,\n",
    "     'replace_dict': {}}\n",
    "\n",
    "with open(op.join(out_dir, 'retr.json'), 'w') as fo:\n",
    "    json.dump(d, fo, indent=4)"
   ]
  },
  {
   "cell_type": "code",
   "execution_count": 5,
   "metadata": {
    "collapsed": true
   },
   "outputs": [],
   "source": [
    "# fci\n",
    "d = {'headers': ['Subject', 'Session', 'SessionDate', 'ExperimentName',\n",
    "                 'FCIQuestionBlock1.Cycle', 'NonFCIQuestionBlock1.Cycle',\n",
    "                 'Question', 'Slide3.RESP', 'Slide3.CRESP', 'Slide3.ACC',\n",
    "                 'Slide1.RT', 'Slide2.RT', 'Slide3.RT',\n",
    "                 'Fixation4secAfterWarmUp.OnsetTime', 'Slide1.OnsetTime',\n",
    "                 'Slide2.OnsetTime', 'Slide3.OnsetTime', 'Fixation2.OnsetTime',\n",
    "                 ],\n",
    "     'merge_cols': {},\n",
    "     'null_cols': ['Slide1.RT'],\n",
    "     'rem_nulls': True,\n",
    "     'replace_dict': {}}\n",
    "\n",
    "with open(op.join(out_dir, 'fci.json'), 'w') as fo:\n",
    "    json.dump(d, fo, indent=4)"
   ]
  }
 ],
 "metadata": {
  "kernelspec": {
   "display_name": "Python 2",
   "language": "python",
   "name": "python2"
  },
  "language_info": {
   "codemirror_mode": {
    "name": "ipython",
    "version": 2
   },
   "file_extension": ".py",
   "mimetype": "text/x-python",
   "name": "python",
   "nbconvert_exporter": "python",
   "pygments_lexer": "ipython2",
   "version": "2.7.11"
  }
 },
 "nbformat": 4,
 "nbformat_minor": 0
}
