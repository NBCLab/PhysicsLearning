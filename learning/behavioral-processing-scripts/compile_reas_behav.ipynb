{
 "cells": [
  {
   "cell_type": "code",
   "execution_count": 1,
   "metadata": {},
   "outputs": [],
   "source": [
    "import pandas as pd\n",
    "import numpy as np\n",
    "\n",
    "f_gen = '/home/data/nbc/physics-learning/data/behavioral-data/analyses/physics-learning-behavioral/datafiles/c123456-demographics.txt'\n",
    "outfile_full =  'reas_accuracy_by_gender.txt'\n",
    "outfile_pre =  'reas_accuracy_by_gender_pre.txt'\n",
    "outfile_post =  'reas_accuracy_by_gender_post.txt'\n",
    "\n",
    "cols = ['Subject', 'Session', 'ContrastValue', 'C1.ACC', 'C1.RT']\n",
    "\n",
    "df_gen = pd.read_csv(f_gen, sep='\\t')"
   ]
  },
  {
   "cell_type": "code",
   "execution_count": 2,
   "metadata": {},
   "outputs": [],
   "source": [
    "from glob import glob\n",
    "from os.path import basename, join\n",
    "\n",
    "rcsv_dir = '/home/data/nbc/physics-learning/data/behavioral-data/rcsv/'\n",
    "subjects = glob(join(rcsv_dir, '*'))\n",
    "subjects = [basename(s) for s in subjects]\n",
    "subjects = sorted([s for s in subjects if s.isdigit() and len(s)==3])\n",
    "sessions = ['session-0', 'session-1']\n",
    "all_dfs = []\n",
    "for s in subjects:\n",
    "    for ss in sessions:\n",
    "        files = sorted(glob(join(rcsv_dir, s, ss, 'REAS/REAS_*.csv')))\n",
    "        if len(files) > 0:\n",
    "            dfs = [pd.read_csv(f) for f in files]\n",
    "            df = pd.concat(dfs, axis=0)\n",
    "            df = df.loc[df['ContrastValue']=='reasoning']\n",
    "            df2 = pd.DataFrame(df.mean()[['Subject', 'Session', 'C1.ACC']]).transpose()\n",
    "            mean_df = df.groupby('C1.ACC').mean()\n",
    "            if 1 in mean_df.index:\n",
    "                df2.loc[0, 'Mean Correct RT'] = mean_df.loc[1, 'C1.RT']\n",
    "            else:\n",
    "                df2.loc[0, 'Mean Correct RT'] = np.nan\n",
    "            \n",
    "            if 0 in mean_df.index:\n",
    "                df2.loc[0, 'Mean Incorrect RT'] = mean_df.loc[0, 'C1.RT']\n",
    "            else:\n",
    "                df2.loc[0, 'Mean Incorrect RT'] = np.nan\n",
    "            \n",
    "            all_dfs.append(df2)\n",
    "\n",
    "full_df = pd.concat(all_dfs, axis=0)\n",
    "full_df['Subject'] = full_df['Subject'].astype(int).astype(str)\n",
    "full_df['Session'] = full_df['Session'].astype(int).astype(str)\n",
    "full_df['Session'] = full_df['Session'].map({'1': 'pre',\n",
    "                                             '2': 'post'})\n",
    "full_df = full_df.rename(columns={'C1.ACC': 'Mean Reasoning Accuracy'})\n",
    "pre_df = full_df.loc[full_df['Session']=='pre']\n",
    "post_df = full_df.loc[full_df['Session']=='post']"
   ]
  },
  {
   "cell_type": "code",
   "execution_count": 3,
   "metadata": {},
   "outputs": [],
   "source": [
    "# set key and drop irrelevant columns\n",
    "df_gen = df_gen.rename(columns={'PID': 'Subject'})\n",
    "df_gen['Subject'] = df_gen['Subject'].astype(str)\n",
    "\n",
    "# merge data frames on key and sort\n",
    "out_df_full = full_df.merge(df_gen[['Subject', 'Gender']], on=['Subject'])\n",
    "out_df_pre = pre_df.merge(df_gen[['Subject', 'Gender']], on=['Subject'])\n",
    "out_df_post = post_df.merge(df_gen[['Subject', 'Gender']], on=['Subject'])\n",
    "#df = df.sort_values(['Session','Subject'], ascending=[False,True])\n",
    "\n",
    "# write new file\n",
    "out_df_full.to_csv(outfile_full,sep='\\t',header=True,index=False)\n",
    "out_df_pre.to_csv(outfile_pre,sep='\\t',header=True,index=False)\n",
    "out_df_post.to_csv(outfile_post,sep='\\t',header=True,index=False)"
   ]
  },
  {
   "cell_type": "code",
   "execution_count": 4,
   "metadata": {},
   "outputs": [
    {
     "data": {
      "text/html": [
       "<div>\n",
       "<style scoped>\n",
       "    .dataframe tbody tr th:only-of-type {\n",
       "        vertical-align: middle;\n",
       "    }\n",
       "\n",
       "    .dataframe tbody tr th {\n",
       "        vertical-align: top;\n",
       "    }\n",
       "\n",
       "    .dataframe thead th {\n",
       "        text-align: right;\n",
       "    }\n",
       "</style>\n",
       "<table border=\"1\" class=\"dataframe\">\n",
       "  <thead>\n",
       "    <tr style=\"text-align: right;\">\n",
       "      <th></th>\n",
       "      <th>Subject</th>\n",
       "      <th>Session</th>\n",
       "      <th>Mean Reasoning Accuracy</th>\n",
       "      <th>Mean Correct RT</th>\n",
       "      <th>Mean Incorrect RT</th>\n",
       "      <th>Gender</th>\n",
       "    </tr>\n",
       "  </thead>\n",
       "  <tbody>\n",
       "    <tr>\n",
       "      <th>0</th>\n",
       "      <td>101</td>\n",
       "      <td>pre</td>\n",
       "      <td>0.750</td>\n",
       "      <td>3578.633333</td>\n",
       "      <td>3392.800000</td>\n",
       "      <td>F</td>\n",
       "    </tr>\n",
       "    <tr>\n",
       "      <th>1</th>\n",
       "      <td>101</td>\n",
       "      <td>post</td>\n",
       "      <td>0.650</td>\n",
       "      <td>3990.653846</td>\n",
       "      <td>3552.571429</td>\n",
       "      <td>F</td>\n",
       "    </tr>\n",
       "    <tr>\n",
       "      <th>2</th>\n",
       "      <td>102</td>\n",
       "      <td>pre</td>\n",
       "      <td>0.900</td>\n",
       "      <td>2555.305556</td>\n",
       "      <td>2294.500000</td>\n",
       "      <td>M</td>\n",
       "    </tr>\n",
       "    <tr>\n",
       "      <th>3</th>\n",
       "      <td>102</td>\n",
       "      <td>post</td>\n",
       "      <td>0.900</td>\n",
       "      <td>2846.472222</td>\n",
       "      <td>4246.750000</td>\n",
       "      <td>M</td>\n",
       "    </tr>\n",
       "    <tr>\n",
       "      <th>4</th>\n",
       "      <td>103</td>\n",
       "      <td>pre</td>\n",
       "      <td>0.975</td>\n",
       "      <td>3276.102564</td>\n",
       "      <td>0.000000</td>\n",
       "      <td>M</td>\n",
       "    </tr>\n",
       "  </tbody>\n",
       "</table>\n",
       "</div>"
      ],
      "text/plain": [
       "   Subject Session  Mean Reasoning Accuracy  Mean Correct RT  \\\n",
       "0      101     pre                    0.750      3578.633333   \n",
       "1      101    post                    0.650      3990.653846   \n",
       "2      102     pre                    0.900      2555.305556   \n",
       "3      102    post                    0.900      2846.472222   \n",
       "4      103     pre                    0.975      3276.102564   \n",
       "\n",
       "   Mean Incorrect RT Gender  \n",
       "0        3392.800000      F  \n",
       "1        3552.571429      F  \n",
       "2        2294.500000      M  \n",
       "3        4246.750000      M  \n",
       "4           0.000000      M  "
      ]
     },
     "execution_count": 4,
     "metadata": {},
     "output_type": "execute_result"
    }
   ],
   "source": [
    "#analysis_df_pre = pd.read_csv('/home/data/nbc/physics-learning/data/behavioral-data/analyses/physics-learning-behavioral/datafiles/reas_accuracy_by_gender_pre.txt', sep='\\t')\n",
    "#analysis_df_post = pd.read_csv('/home/data/nbc/physics-learning/data/behavioral-data/analyses/physics-learning-behavioral/datafiles/reas_accuracy_by_gender_post.txt', sep='\\t')\n",
    "analysis_df_full = pd.read_csv('/home/data/nbc/physics-learning/data/behavioral-data/analyses/physics-learning-behavioral/datafiles/reas_accuracy_by_gender.txt', sep='\\t')\n",
    "analysis_df_full.head()"
   ]
  },
  {
   "cell_type": "code",
   "execution_count": 5,
   "metadata": {},
   "outputs": [
    {
     "name": "stdout",
     "output_type": "stream",
     "text": [
      "('unmatched df size', (226, 6))\n",
      "('matched df size', (210, 6))\n"
     ]
    }
   ],
   "source": [
    "# drop unmatched data from dfs\n",
    "print('unmatched df size', analysis_df_full.shape)\n",
    "\n",
    "unmatched = []\n",
    "for subid in analysis_df_full['Subject'].unique():    \n",
    "    row = analysis_df_full.loc[analysis_df_full['Subject'] == subid, 'Mean Reasoning Accuracy'].index\n",
    "    if len(row) == 1:\n",
    "        unmatched.append(row)\n",
    "for i in unmatched:\n",
    "    analysis_df_full.drop(i, inplace = True)\n",
    "\n",
    "print('matched df size', analysis_df_full.shape)\n",
    "\n",
    "analysis_df_pre = analysis_df_full[analysis_df_full['Session']=='pre']\n",
    "analysis_df_post = analysis_df_full[analysis_df_full['Session']=='post']"
   ]
  },
  {
   "cell_type": "code",
   "execution_count": 6,
   "metadata": {},
   "outputs": [
    {
     "name": "stderr",
     "output_type": "stream",
     "text": [
      "/home/data/nbc/nbclab-env/env-py2/lib/python2.7/site-packages/scipy/stats/stats.py:1713: FutureWarning: Using a non-tuple sequence for multidimensional indexing is deprecated; use `arr[tuple(seq)]` instead of `arr[seq]`. In the future this will be interpreted as an array index, `arr[np.array(seq)]`, which will result either in an error or a different result.\n",
      "  return np.add.reduce(sorted[indexer] * weights, axis=axis) / sumval\n"
     ]
    },
    {
     "data": {
      "image/png": "[encoded data removed]",
      "text/plain": [
       "<Figure size 576x432 with 1 Axes>"
      ]
     },
     "metadata": {},
     "output_type": "display_data"
    },
    {
     "data": {
      "image/png": "[encoded data removed]",
      "text/plain": [
       "<Figure size 576x432 with 1 Axes>"
      ]
     },
     "metadata": {},
     "output_type": "display_data"
    }
   ],
   "source": [
    "%matplotlib inline\n",
    "import matplotlib.pyplot as plt\n",
    "import seaborn as sns\n",
    "sns.set(palette=\"muted\", color_codes=True)\n",
    "\n",
    "# reas acc, pre\n",
    "fig, ax = plt.subplots(figsize=(8, 6))\n",
    "for sex in analysis_df_pre['Gender'].unique():\n",
    "    sex_df = analysis_df_pre.loc[analysis_df_pre['Gender']==sex]\n",
    "    sns.distplot(sex_df['Mean Reasoning Accuracy'], ax=ax, kde=False, \n",
    "                 label=sex)\n",
    "\n",
    "legend = ax.legend(frameon=True)\n",
    "plt.title('Pre-instruction: Reasoning Condition')\n",
    "frame = legend.get_frame()\n",
    "frame.set_facecolor('white')\n",
    "frame.set_edgecolor('black')\n",
    "fig.savefig('reas_mean_accuracy_pre.png', dpi=400)\n",
    "\n",
    "# reas rt, pre\n",
    "fig, ax = plt.subplots(figsize=(8, 6))\n",
    "for sex in analysis_df_pre['Gender'].unique():\n",
    "    sex_df = analysis_df_pre.loc[analysis_df_pre['Gender']==sex]\n",
    "    sns.distplot(sex_df['Mean Correct RT'], ax=ax, kde=False, \n",
    "                 label=sex)\n",
    "\n",
    "legend = ax.legend(frameon=True)\n",
    "plt.title('Pre-instruction: Reasoning Condition')\n",
    "frame = legend.get_frame()\n",
    "frame.set_facecolor('white')\n",
    "frame.set_edgecolor('black')\n",
    "fig.savefig('reas_mean_rt_pre.png', dpi=400)"
   ]
  },
  {
   "cell_type": "code",
   "execution_count": 7,
   "metadata": {},
   "outputs": [
    {
     "data": {
      "image/png": "[encoded data removed]",
      "text/plain": [
       "<Figure size 576x432 with 1 Axes>"
      ]
     },
     "metadata": {},
     "output_type": "display_data"
    },
    {
     "data": {
      "image/png": "[encoded data removed]",
      "text/plain": [
       "<Figure size 576x432 with 1 Axes>"
      ]
     },
     "metadata": {},
     "output_type": "display_data"
    }
   ],
   "source": [
    "sns.set(palette=\"muted\", color_codes=True)\n",
    "\n",
    "# reas acc, post\n",
    "fig, ax = plt.subplots(figsize=(8, 6))\n",
    "for sex in analysis_df_post['Gender'].unique():\n",
    "    sex_df = analysis_df_post.loc[analysis_df_post['Gender']==sex]\n",
    "    sns.distplot(sex_df['Mean Reasoning Accuracy'], ax=ax, kde=False, \n",
    "                 label=sex)\n",
    "\n",
    "legend = ax.legend(frameon=True)\n",
    "plt.title('Post-instruction: Reasoning Condition')\n",
    "frame = legend.get_frame()\n",
    "frame.set_facecolor('white')\n",
    "frame.set_edgecolor('black')\n",
    "fig.savefig('reas_mean_accuracy_post.png', dpi=400)\n",
    "\n",
    "# reas rt, post\n",
    "fig, ax = plt.subplots(figsize=(8, 6))\n",
    "for sex in analysis_df_post['Gender'].unique():\n",
    "    sex_df = analysis_df_post.loc[analysis_df_post['Gender']==sex]\n",
    "    sns.distplot(sex_df['Mean Correct RT'], ax=ax, kde=False, \n",
    "                 label=sex)\n",
    "\n",
    "legend = ax.legend(frameon=True)\n",
    "plt.title('Post-instruction: Reasoning Condition')\n",
    "frame = legend.get_frame()\n",
    "frame.set_facecolor('white')\n",
    "frame.set_edgecolor('black')\n",
    "fig.savefig('reas_mean_rt_post.png', dpi=400)"
   ]
  },
  {
   "cell_type": "code",
   "execution_count": 8,
   "metadata": {},
   "outputs": [
    {
     "name": "stdout",
     "output_type": "stream",
     "text": [
      "\n",
      " Pre-instruction: \n",
      " General Reasoning Accuracy By Gender\n",
      "F    0.801630\n",
      "M    0.849576\n",
      "Name: Mean Reasoning Accuracy, dtype: float64\n",
      "P val: 0.05300773760081089\n",
      "\n",
      " Pre-instruction: \n",
      " General Reasoning Accuracy SD By Gender\n",
      "F    0.154237\n",
      "M    0.095309\n",
      "Name: Mean Reasoning Accuracy, dtype: float64\n",
      "\n",
      " Pre-instruction: \n",
      " General Reasoning RT By Gender\n",
      "F    3293.495701\n",
      "M    3279.435457\n",
      "Name: Mean Correct RT, dtype: float64\n",
      "P val: 0.9182857053133547\n",
      "\n",
      " Post-instruction: \n",
      " General Reasoning Accuracy By Gender\n",
      "F    0.835870\n",
      "M    0.866525\n",
      "Name: Mean Reasoning Accuracy, dtype: float64\n",
      "P val: 0.11682812430736506\n",
      "\n",
      " Post-instruction: \n",
      " General Reasoning Accuracy SD By Gender\n",
      "F    0.104170\n",
      "M    0.093956\n",
      "Name: Mean Reasoning Accuracy, dtype: float64\n",
      "\n",
      " Post-instruction: \n",
      " General Reasoning RT By Gender\n",
      "F    3063.505892\n",
      "M    3073.171208\n",
      "Name: Mean Correct RT, dtype: float64\n",
      "P val: 0.9418373192199831\n"
     ]
    }
   ],
   "source": [
    "from scipy.stats import ttest_ind, ttest_rel\n",
    "\n",
    "## Accuracy By Gender\n",
    "\n",
    "# Get means for pre and post, all conditions\n",
    "mean_df_reas_pre = analysis_df_pre.groupby('Gender').mean()\n",
    "mean_df_reas_post = analysis_df_post.groupby('Gender').mean()\n",
    "\n",
    "# Get SDs for pre and post, all conditions\n",
    "sd_df_reas_pre = analysis_df_pre.groupby('Gender').std()\n",
    "sd_df_reas_post = analysis_df_post.groupby('Gender').std()\n",
    "\n",
    "# Accuracies\n",
    "acc_m_reas_pre = analysis_df_pre[analysis_df_pre['Gender']=='M']\n",
    "acc_f_reas_pre = analysis_df_pre[analysis_df_pre['Gender']=='F']\n",
    "\n",
    "acc_m_reas_post = analysis_df_post[analysis_df_post['Gender']=='M']\n",
    "acc_f_reas_post = analysis_df_post[analysis_df_post['Gender']=='F']\n",
    "\n",
    "# t tests\n",
    "tstat_reas_pre = ttest_ind(acc_m_reas_pre['Mean Reasoning Accuracy'], acc_f_reas_pre['Mean Reasoning Accuracy'])\n",
    "tstat_reas_post = ttest_ind(acc_m_reas_post['Mean Reasoning Accuracy'], acc_f_reas_post['Mean Reasoning Accuracy'])\n",
    "tstat_rt_pre = ttest_ind(acc_m_reas_pre['Mean Correct RT'], acc_f_reas_pre['Mean Correct RT'])\n",
    "tstat_rt_post = ttest_ind(acc_m_reas_post['Mean Correct RT'], acc_f_reas_post['Mean Correct RT'])\n",
    "\n",
    "print '\\n Pre-instruction: \\n General Reasoning Accuracy By', mean_df_reas_pre['Mean Reasoning Accuracy']\n",
    "print 'P val:', tstat_reas_pre.pvalue\n",
    "print '\\n Pre-instruction: \\n General Reasoning Accuracy SD By', sd_df_reas_pre['Mean Reasoning Accuracy']\n",
    "print '\\n Pre-instruction: \\n General Reasoning RT By', mean_df_reas_pre['Mean Correct RT']\n",
    "print 'P val:', tstat_rt_pre.pvalue\n",
    "\n",
    "print '\\n Post-instruction: \\n General Reasoning Accuracy By', mean_df_reas_post['Mean Reasoning Accuracy']\n",
    "print 'P val:', tstat_reas_post.pvalue\n",
    "print '\\n Post-instruction: \\n General Reasoning Accuracy SD By', sd_df_reas_post['Mean Reasoning Accuracy']\n",
    "print '\\n Post-instruction: \\n General Reasoning RT By', mean_df_reas_post['Mean Correct RT']\n",
    "print 'P val:', tstat_rt_post.pvalue"
   ]
  },
  {
   "cell_type": "code",
   "execution_count": 9,
   "metadata": {},
   "outputs": [
    {
     "data": {
      "image/png": "[encoded data removed]",
      "text/plain": [
       "<Figure size 576x432 with 1 Axes>"
      ]
     },
     "metadata": {},
     "output_type": "display_data"
    }
   ],
   "source": [
    "# plot accuracy pre and post\n",
    "sns.set(palette=\"bright\", color_codes=True)\n",
    "\n",
    "#sns.palplot(sns.color_palette(\"Set2\", 10))\n",
    "fig, ax = plt.subplots(figsize=(8, 6))\n",
    "for sess in analysis_df_full['Session'].unique():\n",
    "    sess_df = analysis_df_full.loc[analysis_df_full['Session']==sess]\n",
    "    sns.distplot(sess_df['Mean Reasoning Accuracy'], ax=ax, kde=False, \n",
    "                 label=sess)\n",
    "\n",
    "legend = ax.legend(frameon=True)\n",
    "plt.title('Pre- to Post-instruction: General Reasoning Condition')\n",
    "frame = legend.get_frame()\n",
    "frame.set_facecolor('white')\n",
    "frame.set_edgecolor('black')\n",
    "fig.savefig('reas_mean_accuracy_pre2post.png', dpi=400)"
   ]
  },
  {
   "cell_type": "code",
   "execution_count": 10,
   "metadata": {},
   "outputs": [
    {
     "data": {
      "image/png": "[encoded data removed]",
      "text/plain": [
       "<Figure size 576x432 with 1 Axes>"
      ]
     },
     "metadata": {},
     "output_type": "display_data"
    }
   ],
   "source": [
    "# plot rt pre and post\n",
    "sns.set(palette=\"bright\", color_codes=True)\n",
    "\n",
    "#sns.palplot(sns.color_palette(\"Set2\", 10))\n",
    "fig, ax = plt.subplots(figsize=(8, 6))\n",
    "for sess in analysis_df_full['Session'].unique():\n",
    "    sess_df = analysis_df_full.loc[analysis_df_full['Session']==sess]\n",
    "    sns.distplot(sess_df['Mean Correct RT'], ax=ax, kde=False, \n",
    "                 label=sess)\n",
    "\n",
    "legend = ax.legend(frameon=True)\n",
    "plt.title('Pre- to Post-instruction: General Reasoning Condition')\n",
    "frame = legend.get_frame()\n",
    "frame.set_facecolor('white')\n",
    "frame.set_edgecolor('black')\n",
    "fig.savefig('reas_mean_RT_pre2post.png', dpi=400)"
   ]
  },
  {
   "cell_type": "code",
   "execution_count": 14,
   "metadata": {},
   "outputs": [
    {
     "name": "stdout",
     "output_type": "stream",
     "text": [
      "Reas Accuracy Pre\n",
      "Statistics=0.824, p=0.000\n",
      "Sample does not look Gaussian (reject H0)\n",
      "Reas Accuracy Post\n",
      "Statistics=0.936, p=0.000\n",
      "Sample does not look Gaussian (reject H0)\n"
     ]
    }
   ],
   "source": [
    "from scipy.stats import shapiro\n",
    "\n",
    "#Shapiro-Wilk Normality Test\n",
    "cond = 'Reasoning'\n",
    "meas = 'Accuracy'\n",
    "data1 = analysis_df_pre['Mean {0} {1}'.format(cond,meas)]\n",
    "data2 = analysis_df_post['Mean {0} {1}'.format(cond,meas)]\n",
    "datalist = [data1, data2]\n",
    "\n",
    "# normality test\n",
    "for i, data in enumerate(datalist):\n",
    "    stat, p = shapiro(data)\n",
    "    if i == 0:\n",
    "        print('Reas Accuracy Pre')\n",
    "    elif i == 1:\n",
    "        print('Reas Accuracy Post')\n",
    "    else:\n",
    "        print('something went wrong')\n",
    "    print('Statistics=%.3f, p=%.3f' % (stat, p))\n",
    "\n",
    "    # interpret\n",
    "    alpha = 0.05\n",
    "    if p > alpha:\n",
    "        print('Sample looks Gaussian (fail to reject H0)')\n",
    "    else:\n",
    "        print('Sample does not look Gaussian (reject H0)')"
   ]
  },
  {
   "cell_type": "code",
   "execution_count": 19,
   "metadata": {},
   "outputs": [
    {
     "name": "stdout",
     "output_type": "stream",
     "text": [
      "\n",
      " Pre- to Post-Instruction Accuracy: \n",
      " General Reasoning Condition By Session\n",
      "post    0.853095\n",
      "pre     0.828571\n",
      "Name: Mean Reasoning Accuracy, dtype: float64\n",
      "T-Test P val: 0.02764060868215129\n",
      "Wilcoxon P val: 0.05291244043774125\n",
      "\n",
      " Pre- to Post-Instruction Accuracy SEM: \n",
      " General Reasoning Condition By Session\n",
      "post    0.009687\n",
      "pre     0.012317\n",
      "Name: Mean Reasoning Accuracy, dtype: float64\n",
      "\n",
      " Pre- to Post-Instruction RT: \n",
      " General Reasoning Condition By Session\n",
      "post    3068.936879\n",
      "pre     3285.595183\n",
      "Name: Mean Correct RT, dtype: float64\n",
      "P val: 1.714550955230696e-05\n"
     ]
    }
   ],
   "source": [
    "## Accuracy and RT t-tests post to pre\n",
    "\n",
    "from scipy.stats import wilcoxon\n",
    "\n",
    "# Get mean for pre and post\n",
    "mean_df_reas_full = analysis_df_full.groupby('Session').mean()\n",
    "sem_df_reas_full = analysis_df_full.groupby('Session').sem()\n",
    "\n",
    "# Accuracies\n",
    "acc_reas_pre = analysis_df_full[analysis_df_full['Session']=='pre']\n",
    "acc_reas_post = analysis_df_full[analysis_df_full['Session']=='post']\n",
    "\n",
    "# Response Times\n",
    "rt_reas_pre = analysis_df_full[analysis_df_full['Session']=='pre']\n",
    "rt_reas_post = analysis_df_full[analysis_df_full['Session']=='post']\n",
    "\n",
    "# t tests (for normal data)\n",
    "tstat_reas_acc = ttest_rel(acc_reas_pre['Mean Reasoning Accuracy'], acc_reas_post['Mean Reasoning Accuracy'])\n",
    "tstat_reas_rt = ttest_rel(rt_reas_pre['Mean Correct RT'], rt_reas_post['Mean Correct RT'])\n",
    "\n",
    "# Wilcoxon sign-ranked test (for non-normal data)\n",
    "data1, data2 = acc_reas_pre['Mean Reasoning Accuracy'], acc_reas_post['Mean Reasoning Accuracy']\n",
    "stat, p = wilcoxon(data1, data2)\n",
    "\n",
    "print '\\n Pre- to Post-Instruction Accuracy: \\n General Reasoning Condition By', mean_df_reas_full['Mean Reasoning Accuracy']\n",
    "print 'T-Test P val:', tstat_reas_acc.pvalue\n",
    "print 'Wilcoxon P val:', p\n",
    "print '\\n Pre- to Post-Instruction Accuracy SEM: \\n General Reasoning Condition By', sem_df_reas_full['Mean Reasoning Accuracy']\n",
    "\n",
    "print '\\n Pre- to Post-Instruction RT: \\n General Reasoning Condition By', mean_df_reas_full['Mean Correct RT']\n",
    "print 'P val:', tstat_reas_rt.pvalue"
   ]
  },
  {
   "cell_type": "code",
   "execution_count": null,
   "metadata": {},
   "outputs": [],
   "source": []
  }
 ],
 "metadata": {
  "kernelspec": {
   "display_name": "Python 2",
   "language": "python",
   "name": "python2"
  },
  "language_info": {
   "codemirror_mode": {
    "name": "ipython",
    "version": 2
   },
   "file_extension": ".py",
   "mimetype": "text/x-python",
   "name": "python",
   "nbconvert_exporter": "python",
   "pygments_lexer": "ipython2",
   "version": "2.7.11"
  }
 },
 "nbformat": 4,
 "nbformat_minor": 1
}
